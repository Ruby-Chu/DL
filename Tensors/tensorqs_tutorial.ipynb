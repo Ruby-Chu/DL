{
 "cells": [
  {
   "cell_type": "code",
   "execution_count": 1,
   "id": "initial_id",
   "metadata": {
    "collapsed": true,
    "ExecuteTime": {
     "end_time": "2023-10-22T06:40:19.182680300Z",
     "start_time": "2023-10-22T06:39:56.918229900Z"
    }
   },
   "outputs": [],
   "source": [
    "import torch\n",
    "import numpy as np"
   ]
  },
  {
   "cell_type": "markdown",
   "source": [
    "# Initializing a Tendor"
   ],
   "metadata": {
    "collapsed": false
   },
   "id": "b271d0c652aafdca"
  },
  {
   "cell_type": "markdown",
   "source": [
    "#### Directly from data\n",
    "torch.tensor(2D_dim_array)"
   ],
   "metadata": {
    "collapsed": false
   },
   "id": "d816c42d4da4fe43"
  },
  {
   "cell_type": "code",
   "execution_count": 2,
   "outputs": [],
   "source": [
    "data = [[10, 25], [19, 33]]\n",
    "x_data = torch.tensor(data)"
   ],
   "metadata": {
    "collapsed": false,
    "ExecuteTime": {
     "end_time": "2023-10-22T06:40:19.198638300Z",
     "start_time": "2023-10-22T06:40:19.184678Z"
    }
   },
   "id": "839638ebb4d6125f"
  },
  {
   "cell_type": "markdown",
   "source": [
    "#### From a numpy array\n",
    "torch.from_numpy(np_array)"
   ],
   "metadata": {
    "collapsed": false
   },
   "id": "de2045426cf5f0fd"
  },
  {
   "cell_type": "code",
   "execution_count": 3,
   "outputs": [],
   "source": [
    "np_array = np.array(data)\n",
    "x_np = torch.from_numpy(np_array)"
   ],
   "metadata": {
    "collapsed": false,
    "ExecuteTime": {
     "end_time": "2023-10-22T06:40:19.221576600Z",
     "start_time": "2023-10-22T06:40:19.199637800Z"
    }
   },
   "id": "f0296b87a69e3086"
  },
  {
   "cell_type": "markdown",
   "source": [
    "#### From another tensor "
   ],
   "metadata": {
    "collapsed": false
   },
   "id": "6a71602e2eb87874"
  },
  {
   "cell_type": "code",
   "execution_count": 4,
   "outputs": [
    {
     "name": "stdout",
     "output_type": "stream",
     "text": [
      "Ones Tensor: \n",
      " tensor([[1, 1],\n",
      "        [1, 1]]) \n",
      "\n",
      "Random Tensor: \n",
      " tensor([[0.4630, 0.9707],\n",
      "        [0.1944, 0.9002]]) \n"
     ]
    }
   ],
   "source": [
    "# retains the properties of x_data\n",
    "x_ones = torch.ones_like(x_data) \n",
    "print(f\"Ones Tensor: \\n {x_ones} \\n\")\n",
    "\n",
    "# overrides the datatype of x_data\n",
    "x_rand = torch.rand_like(x_data, dtype=torch.float)\n",
    "print(f\"Random Tensor: \\n {x_rand} \\n\")"
   ],
   "metadata": {
    "collapsed": false,
    "ExecuteTime": {
     "end_time": "2023-10-22T06:40:19.234542300Z",
     "start_time": "2023-10-22T06:40:19.215594400Z"
    }
   },
   "id": "8a2cfc67262043dc"
  },
  {
   "cell_type": "markdown",
   "source": [
    "#### With random or constant values:\n",
    "shape is a tuple of tensor dim"
   ],
   "metadata": {
    "collapsed": false
   },
   "id": "f954bcf1228878e1"
  },
  {
   "cell_type": "code",
   "execution_count": 5,
   "outputs": [
    {
     "name": "stdout",
     "output_type": "stream",
     "text": [
      "Random Tensor: \n",
      " tensor([[0.7705, 0.9783, 0.1767],\n",
      "        [0.6734, 0.2424, 0.8285]]) \n",
      "\n",
      "Ones Tensor: \n",
      " tensor([[1., 1., 1.],\n",
      "        [1., 1., 1.]]) \n",
      "\n",
      "Zeros Tensor: \n",
      " tensor([[0., 0., 0.],\n",
      "        [0., 0., 0.]]) \n"
     ]
    }
   ],
   "source": [
    "shape = (2,3)\n",
    "# 產生隨機 2x3\n",
    "rand_tensor = torch.rand(shape)\n",
    "# 產生都是1 2x3\n",
    "ones_tensor = torch.ones(shape)\n",
    "# 產生都是0 2x3\n",
    "zeros_tensor = torch.zeros(shape)\n",
    "\n",
    "print(f\"Random Tensor: \\n {rand_tensor} \\n\")\n",
    "print(f\"Ones Tensor: \\n {ones_tensor} \\n\")\n",
    "print(f\"Zeros Tensor: \\n {zeros_tensor} \\n\")"
   ],
   "metadata": {
    "collapsed": false,
    "ExecuteTime": {
     "end_time": "2023-10-22T06:40:19.251499Z",
     "start_time": "2023-10-22T06:40:19.232548Z"
    }
   },
   "id": "45236b767afba654"
  },
  {
   "cell_type": "markdown",
   "source": [
    "# Attributes of a Tensor"
   ],
   "metadata": {
    "collapsed": false
   },
   "id": "ecc51d812f8ecca4"
  },
  {
   "cell_type": "code",
   "execution_count": 6,
   "outputs": [
    {
     "name": "stdout",
     "output_type": "stream",
     "text": [
      "Shape of tensor: torch.Size([3, 4])\n",
      "Datatype of tensor: torch.float32\n",
      "Device tensor is stored on: cpu\n"
     ]
    }
   ],
   "source": [
    "tensor = torch.rand(3,4)\n",
    "\n",
    "print(f\"Shape of tensor: {tensor.shape}\")\n",
    "print(f\"Datatype of tensor: {tensor.dtype}\")\n",
    "print(f\"Device tensor is stored on: {tensor.device}\")\n",
    "\n",
    "# # cpu -> gpu\n",
    "# device = (\n",
    "#     \"cuda\"\n",
    "#     if torch.cuda.is_available()\n",
    "#     else \"mps\"\n",
    "#     if torch.backends.mps.is_available()\n",
    "#     else \"cpu\"\n",
    "# )\n",
    "# gpu_tensor = tensor.to(device)\n",
    "# print(f\"Device tensor is stored on: {gpu_tensor.device}\")"
   ],
   "metadata": {
    "collapsed": false,
    "ExecuteTime": {
     "end_time": "2023-10-22T06:40:19.322306200Z",
     "start_time": "2023-10-22T06:40:19.247509100Z"
    }
   },
   "id": "e297ae11099ee5fe"
  },
  {
   "cell_type": "markdown",
   "source": [
    "# Operations on Tensors"
   ],
   "metadata": {
    "collapsed": false
   },
   "id": "d58b6cdf0948f0e5"
  },
  {
   "cell_type": "code",
   "execution_count": 7,
   "outputs": [],
   "source": [
    "# move tensor to the GPU if available\n",
    "if torch.cuda.is_available():\n",
    "    tensor = tensor.to(\"cuda\")"
   ],
   "metadata": {
    "collapsed": false,
    "ExecuteTime": {
     "end_time": "2023-10-22T06:40:19.387133400Z",
     "start_time": "2023-10-22T06:40:19.263470100Z"
    }
   },
   "id": "1a2b557b36b5b843"
  },
  {
   "cell_type": "markdown",
   "source": [
    "#### Standard numpy-like indexing and slicing:"
   ],
   "metadata": {
    "collapsed": false
   },
   "id": "6df6d62ee858cd85"
  },
  {
   "cell_type": "code",
   "execution_count": 8,
   "outputs": [
    {
     "name": "stdout",
     "output_type": "stream",
     "text": [
      "tensor: \n",
      " tensor([[1., 1., 1., 1.],\n",
      "        [1., 1., 1., 1.],\n",
      "        [1., 1., 1., 1.],\n",
      "        [1., 1., 1., 1.]])\n",
      "\n",
      "First row: \n",
      " tensor([1., 1., 1., 1.])\n",
      "\n",
      "First column: \n",
      " tensor([1., 1., 1., 1.])\n",
      "\n",
      "Last column: \n",
      " tensor([1., 1., 1., 1.])\n",
      "\n",
      "tensor([[1., 0., 1., 1.],\n",
      "        [1., 0., 1., 1.],\n",
      "        [1., 0., 1., 1.],\n",
      "        [1., 0., 1., 1.]])\n"
     ]
    }
   ],
   "source": [
    "# tensor = torch.rand(2,3)\n",
    "tensor = torch.ones(4,4)\n",
    "# tensor = torch.rand(4,4)\n",
    "print(f\"tensor: \\n {tensor}\\n\")\n",
    "print(f\"First row: \\n {tensor[0]}\\n\")\n",
    "# [row, col]\n",
    "print(f\"First column: \\n {tensor[:, 0]}\\n\")\n",
    "# print(f\"Last column: {tensor[..., -1]}\")\n",
    "print(f\"Last column: \\n {tensor[:, -1]}\\n\")\n",
    "# 將第二行全部設為0\n",
    "tensor[:, 1] = 0\n",
    "print(tensor)"
   ],
   "metadata": {
    "collapsed": false,
    "ExecuteTime": {
     "end_time": "2023-10-22T06:40:19.404089900Z",
     "start_time": "2023-10-22T06:40:19.388131400Z"
    }
   },
   "id": "78fb69a3136f66a8"
  },
  {
   "cell_type": "code",
   "execution_count": 9,
   "outputs": [
    {
     "name": "stdout",
     "output_type": "stream",
     "text": [
      "t1: \n",
      " tensor([[1., 0., 1., 1., 1., 0., 1., 1., 1., 0., 1., 1.],\n",
      "        [1., 0., 1., 1., 1., 0., 1., 1., 1., 0., 1., 1.],\n",
      "        [1., 0., 1., 1., 1., 0., 1., 1., 1., 0., 1., 1.],\n",
      "        [1., 0., 1., 1., 1., 0., 1., 1., 1., 0., 1., 1.]])\n"
     ]
    }
   ],
   "source": [
    "# Joining tensors\n",
    "# 以col方式\n",
    "t1 = torch.cat([tensor, tensor, tensor], dim=1)\n",
    "print(f\"t1: \\n {t1}\")\n",
    "\n",
    "# 以row方式\n",
    "# t2 = torch.cat([tensor, tensor, tensor], dim=0)\n",
    "# print(t2)"
   ],
   "metadata": {
    "collapsed": false,
    "ExecuteTime": {
     "end_time": "2023-10-22T06:40:19.463927300Z",
     "start_time": "2023-10-22T06:40:19.405086300Z"
    }
   },
   "id": "12ae6701fd46aedf"
  },
  {
   "cell_type": "code",
   "execution_count": 10,
   "outputs": [
    {
     "name": "stdout",
     "output_type": "stream",
     "text": [
      "y1: \n",
      " tensor([[3., 3., 3., 3.],\n",
      "        [3., 3., 3., 3.],\n",
      "        [3., 3., 3., 3.],\n",
      "        [3., 3., 3., 3.]])\n",
      "y2: \n",
      " tensor([[3., 3., 3., 3.],\n",
      "        [3., 3., 3., 3.],\n",
      "        [3., 3., 3., 3.],\n",
      "        [3., 3., 3., 3.]])\n",
      "y3: \n",
      " tensor([[3., 3., 3., 3.],\n",
      "        [3., 3., 3., 3.],\n",
      "        [3., 3., 3., 3.],\n",
      "        [3., 3., 3., 3.]])\n",
      "z1: \n",
      " tensor([[1., 0., 1., 1.],\n",
      "        [1., 0., 1., 1.],\n",
      "        [1., 0., 1., 1.],\n",
      "        [1., 0., 1., 1.]])\n",
      "z2: \n",
      " tensor([[1., 0., 1., 1.],\n",
      "        [1., 0., 1., 1.],\n",
      "        [1., 0., 1., 1.],\n",
      "        [1., 0., 1., 1.]])\n",
      "z3: \n",
      " tensor([[1., 0., 1., 1.],\n",
      "        [1., 0., 1., 1.],\n",
      "        [1., 0., 1., 1.],\n",
      "        [1., 0., 1., 1.]])\n"
     ]
    }
   ],
   "source": [
    "# 陣列相乘 (tensor.T 轉置)\n",
    "# This computes the matrix multiplication between two tensors. y1, y2, y3 will have the same value\n",
    "# ``tensor.T`` returns the transpose of a tensor\n",
    "# y = T x T'\n",
    "y1 = tensor @ tensor.T\n",
    "print(f\"y1: \\n {y1}\")\n",
    "\n",
    "y2 = tensor.matmul(tensor.T)\n",
    "print(f\"y2: \\n {y2}\")\n",
    "\n",
    "# 複製y1格式\n",
    "y3 = torch.rand_like(y1)\n",
    "# 陣列相乘後放入y3\n",
    "torch.matmul(tensor, tensor.T, out=y3)# T*T'\n",
    "print(f\"y3: \\n {y3}\")\n",
    "\n",
    "# This computes the element-wise product. z1, z2, z3 will have the same value\n",
    "# y = T. * T.\n",
    "z1 = tensor * tensor\n",
    "print(f\"z1: \\n {z1}\")\n",
    "z2 = tensor.mul(tensor)# T.*T.\n",
    "print(f\"z2: \\n {z2}\")\n",
    "z3 = torch.rand_like(tensor)\n",
    "torch.mul(tensor, tensor, out=z3)#T.*T.\n",
    "print(f\"z3: \\n {z3}\")"
   ],
   "metadata": {
    "collapsed": false,
    "ExecuteTime": {
     "end_time": "2023-10-22T06:40:19.475896Z",
     "start_time": "2023-10-22T06:40:19.422039900Z"
    }
   },
   "id": "8fd4b700821a972c"
  },
  {
   "cell_type": "markdown",
   "source": [
    "#### Single-element tensors"
   ],
   "metadata": {
    "collapsed": false
   },
   "id": "ea2343098d44715e"
  },
  {
   "cell_type": "code",
   "execution_count": 11,
   "outputs": [
    {
     "name": "stdout",
     "output_type": "stream",
     "text": [
      "agg: \n",
      " 12.0\n",
      "\n",
      "agg_item: \n",
      " 12.0 \n",
      "type: \n",
      " <class 'float'>\n"
     ]
    }
   ],
   "source": [
    "# 所有element加起來\n",
    "agg = tensor.sum()\n",
    "print(f\"agg: \\n {agg}\\n\")\n",
    "agg_item = agg.item()\n",
    "print(f\"agg_item: \\n {agg_item} \\ntype: \\n {type(agg_item)}\\n\")"
   ],
   "metadata": {
    "collapsed": false,
    "ExecuteTime": {
     "end_time": "2023-10-22T06:40:19.475896Z",
     "start_time": "2023-10-22T06:40:19.437000900Z"
    }
   },
   "id": "e76cdddbc24bab20"
  },
  {
   "cell_type": "markdown",
   "source": [
    "#### In-place operations"
   ],
   "metadata": {
    "collapsed": false
   },
   "id": "545145ef3f890269"
  },
  {
   "cell_type": "code",
   "execution_count": 12,
   "outputs": [
    {
     "name": "stdout",
     "output_type": "stream",
     "text": [
      "tensor: \n",
      "tensor([[1., 0., 1., 1.],\n",
      "        [1., 0., 1., 1.],\n",
      "        [1., 0., 1., 1.],\n",
      "        [1., 0., 1., 1.]])\n",
      "\n",
      "tensor.add_(5): \n",
      "tensor([[6., 5., 6., 6.],\n",
      "        [6., 5., 6., 6.],\n",
      "        [6., 5., 6., 6.],\n",
      "        [6., 5., 6., 6.]])\n"
     ]
    }
   ],
   "source": [
    "print(f\"tensor: \\n{tensor}\\n\")\n",
    "# 每個element + 5 然後數值直接在原始陣列上加\n",
    "tensor.add_(5)\n",
    "print(f\"tensor.add_(5): \\n{tensor}\")"
   ],
   "metadata": {
    "collapsed": false,
    "ExecuteTime": {
     "end_time": "2023-10-22T06:40:19.476893200Z",
     "start_time": "2023-10-22T06:40:19.453957Z"
    }
   },
   "id": "a66d7e5371e41cee"
  },
  {
   "cell_type": "markdown",
   "source": [
    "# Bridge with numpy"
   ],
   "metadata": {
    "collapsed": false
   },
   "id": "4caabf9658058f0c"
  },
  {
   "cell_type": "markdown",
   "source": [
    "#### Tensor to numpy array"
   ],
   "metadata": {
    "collapsed": false
   },
   "id": "e2239b3e462ff2be"
  },
  {
   "cell_type": "code",
   "execution_count": 13,
   "outputs": [
    {
     "name": "stdout",
     "output_type": "stream",
     "text": [
      "t: \n",
      " tensor([1., 1., 1., 1., 1.])\n",
      "\n",
      "n: \n",
      " [1. 1. 1. 1. 1.]\n"
     ]
    }
   ],
   "source": [
    "t = torch.ones(5) # 1x5\n",
    "print(f\"t: \\n {t}\\n\")\n",
    "n = t.numpy()\n",
    "print(f\"n: \\n {n}\\n\")"
   ],
   "metadata": {
    "collapsed": false,
    "ExecuteTime": {
     "end_time": "2023-10-22T06:40:19.489859100Z",
     "start_time": "2023-10-22T06:40:19.469912600Z"
    }
   },
   "id": "8a427b591c1ef31b"
  },
  {
   "cell_type": "code",
   "execution_count": 14,
   "outputs": [
    {
     "name": "stdout",
     "output_type": "stream",
     "text": [
      "t: \n",
      " tensor([2., 2., 2., 2., 2.])\n",
      "\n",
      "n: \n",
      " [2. 2. 2. 2. 2.]\n"
     ]
    }
   ],
   "source": [
    "t.add_(1)\n",
    "print(f\"t: \\n {t}\\n\")\n",
    "print(f\"n: \\n {n}\\n\")"
   ],
   "metadata": {
    "collapsed": false,
    "ExecuteTime": {
     "end_time": "2023-10-22T06:40:19.573634200Z",
     "start_time": "2023-10-22T06:40:19.486870600Z"
    }
   },
   "id": "4abbd6bfcaafce9a"
  },
  {
   "cell_type": "markdown",
   "source": [
    "# numpy array to Tensor"
   ],
   "metadata": {
    "collapsed": false
   },
   "id": "eddfbb04c0c42022"
  },
  {
   "cell_type": "code",
   "execution_count": 15,
   "outputs": [
    {
     "name": "stdout",
     "output_type": "stream",
     "text": [
      "n: \n",
      " [1. 1. 1. 1. 1.]\n",
      "\n",
      "t: \n",
      " tensor([1., 1., 1., 1., 1.], dtype=torch.float64)\n"
     ]
    }
   ],
   "source": [
    "n = np.ones(5) # 1x5\n",
    "t = torch.from_numpy(n)\n",
    "print(f\"n: \\n {n}\\n\")\n",
    "print(f\"t: \\n {t}\\n\")"
   ],
   "metadata": {
    "collapsed": false,
    "ExecuteTime": {
     "end_time": "2023-10-22T06:40:19.584605900Z",
     "start_time": "2023-10-22T06:40:19.502824Z"
    }
   },
   "id": "cf0c52965e6a04c8"
  },
  {
   "cell_type": "code",
   "execution_count": 16,
   "outputs": [
    {
     "name": "stdout",
     "output_type": "stream",
     "text": [
      "t: \n",
      " tensor([2., 2., 2., 2., 2.], dtype=torch.float64)\n",
      "\n",
      "n: \n",
      " [2. 2. 2. 2. 2.]\n"
     ]
    }
   ],
   "source": [
    "np.add(n, 1, out=n)\n",
    "print(f\"t: \\n {t}\\n\")\n",
    "print(f\"n: \\n {n}\\n\")"
   ],
   "metadata": {
    "collapsed": false,
    "ExecuteTime": {
     "end_time": "2023-10-22T06:40:19.585606900Z",
     "start_time": "2023-10-22T06:40:19.515789300Z"
    }
   },
   "id": "6661d1f1841f6c74"
  }
 ],
 "metadata": {
  "kernelspec": {
   "display_name": "Python 3",
   "language": "python",
   "name": "python3"
  },
  "language_info": {
   "codemirror_mode": {
    "name": "ipython",
    "version": 2
   },
   "file_extension": ".py",
   "mimetype": "text/x-python",
   "name": "python",
   "nbconvert_exporter": "python",
   "pygments_lexer": "ipython2",
   "version": "2.7.6"
  }
 },
 "nbformat": 4,
 "nbformat_minor": 5
}
