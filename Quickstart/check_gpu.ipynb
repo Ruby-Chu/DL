{
 "cells": [
  {
   "cell_type": "code",
   "execution_count": 1,
   "id": "initial_id",
   "metadata": {
    "collapsed": true,
    "ExecuteTime": {
     "end_time": "2023-10-22T00:28:42.923287100Z",
     "start_time": "2023-10-22T00:28:20.713165400Z"
    }
   },
   "outputs": [],
   "source": [
    "import torch"
   ]
  },
  {
   "cell_type": "code",
   "execution_count": 2,
   "outputs": [
    {
     "name": "stdout",
     "output_type": "stream",
     "text": [
      "是否可使用GPU:True\n"
     ]
    }
   ],
   "source": [
    "# 判斷PyTorch是否可以用GPU\n",
    "available = torch.cuda.is_available()\n",
    "print(f\"是否可使用GPU:{available}\")"
   ],
   "metadata": {
    "collapsed": false,
    "ExecuteTime": {
     "end_time": "2023-10-22T00:28:44.062918700Z",
     "start_time": "2023-10-22T00:28:42.926696200Z"
    }
   },
   "id": "925880c601a4b3aa"
  },
  {
   "cell_type": "code",
   "execution_count": 3,
   "outputs": [
    {
     "name": "stdout",
     "output_type": "stream",
     "text": [
      "共有1個GPU\n"
     ]
    }
   ],
   "source": [
    "# GPU 數量\n",
    "gpu_num = torch.cuda.device_count()\n",
    "print(f\"共有{gpu_num}個GPU\")"
   ],
   "metadata": {
    "collapsed": false,
    "ExecuteTime": {
     "end_time": "2023-10-22T00:28:44.106616100Z",
     "start_time": "2023-10-22T00:28:44.065103600Z"
    }
   },
   "id": "91ceec8be494a2b0"
  },
  {
   "cell_type": "code",
   "execution_count": 4,
   "outputs": [
    {
     "name": "stdout",
     "output_type": "stream",
     "text": [
      "第0個GPU:NVIDIA GeForce RTX 2060\n",
      "<torch.cuda.device object at 0x000002B3A2E87EE0>\n"
     ]
    }
   ],
   "source": [
    "# GPU 名稱\n",
    "for n in range(gpu_num):\n",
    "    device = torch.cuda.device(n)\n",
    "    device_name = torch.cuda.get_device_name(n)\n",
    "    print(f\"第{n}個GPU:{device_name}\")\n",
    "    print(device)"
   ],
   "metadata": {
    "collapsed": false,
    "ExecuteTime": {
     "end_time": "2023-10-22T00:28:44.107613300Z",
     "start_time": "2023-10-22T00:28:44.080799600Z"
    }
   },
   "id": "ba6bdf1d1da2fe2b"
  },
  {
   "cell_type": "code",
   "execution_count": 5,
   "outputs": [
    {
     "name": "stdout",
     "output_type": "stream",
     "text": [
      "正在使用第0個GPU\n"
     ]
    }
   ],
   "source": [
    "# 正在使用的GPU\n",
    "current_gpu = torch.cuda.current_device()\n",
    "print(f\"正在使用第{current_gpu}個GPU\")"
   ],
   "metadata": {
    "collapsed": false,
    "ExecuteTime": {
     "end_time": "2023-10-22T00:28:44.116635400Z",
     "start_time": "2023-10-22T00:28:44.098802300Z"
    }
   },
   "id": "f542b3b4c70ffa62"
  },
  {
   "cell_type": "code",
   "execution_count": 6,
   "outputs": [
    {
     "name": "stdout",
     "output_type": "stream",
     "text": [
      "Memory Usage:\n",
      "Allocated: 0.0 GB\n",
      "Cached:    0.0 GB\n"
     ]
    }
   ],
   "source": [
    "# Additional Info when using cuda\n",
    "print('Memory Usage:')\n",
    "print('Allocated:', round(torch.cuda.memory_allocated(0) / 1024 ** 3, 1), 'GB')\n",
    "print('Cached:   ', round(torch.cuda.memory_reserved(0) / 1024 ** 3, 1), 'GB')"
   ],
   "metadata": {
    "collapsed": false,
    "ExecuteTime": {
     "end_time": "2023-10-22T00:28:44.125006Z",
     "start_time": "2023-10-22T00:28:44.111735200Z"
    }
   },
   "id": "109891fd61b5bdcf"
  }
 ],
 "metadata": {
  "kernelspec": {
   "display_name": "Python 3",
   "language": "python",
   "name": "python3"
  },
  "language_info": {
   "codemirror_mode": {
    "name": "ipython",
    "version": 2
   },
   "file_extension": ".py",
   "mimetype": "text/x-python",
   "name": "python",
   "nbconvert_exporter": "python",
   "pygments_lexer": "ipython2",
   "version": "2.7.6"
  }
 },
 "nbformat": 4,
 "nbformat_minor": 5
}
