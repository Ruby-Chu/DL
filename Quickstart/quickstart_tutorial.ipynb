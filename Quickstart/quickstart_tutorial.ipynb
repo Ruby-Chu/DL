{
 "cells": [
  {
   "cell_type": "markdown",
   "source": [
    "# Working wit data\n"
   ],
   "metadata": {
    "collapsed": false
   },
   "id": "9779491bfef74bcc"
  },
  {
   "cell_type": "code",
   "execution_count": 1,
   "outputs": [],
   "source": [
    "import torch\n",
    "from torch import nn\n",
    "from torch.utils.data import DataLoader\n",
    "from torchvision import datasets\n",
    "from torchvision.transforms import ToTensor"
   ],
   "metadata": {
    "collapsed": false,
    "ExecuteTime": {
     "end_time": "2023-10-22T02:25:37.815721200Z",
     "start_time": "2023-10-22T02:25:14.799509400Z"
    }
   },
   "id": "initial_id"
  },
  {
   "cell_type": "code",
   "execution_count": 2,
   "outputs": [],
   "source": [
    "# Download training data from open datasets\n",
    "train_data = datasets.FashionMNIST(\n",
    "    root=\"data\",\n",
    "    train=True,\n",
    "    download=False, # 若已經下載就不要再下載\n",
    "    transform=ToTensor(),\n",
    ")"
   ],
   "metadata": {
    "collapsed": false,
    "ExecuteTime": {
     "end_time": "2023-10-22T02:25:37.878434700Z",
     "start_time": "2023-10-22T02:25:37.817717600Z"
    }
   },
   "id": "7fd2c4494d3d8288"
  },
  {
   "cell_type": "code",
   "execution_count": 3,
   "outputs": [],
   "source": [
    "# Download test data from open datasets\n",
    "test_data = datasets.FashionMNIST(\n",
    "    root=\"data\",\n",
    "    train=False,\n",
    "    download=False,  # 若已經下載就不要再下載\n",
    "    transform=ToTensor()\n",
    ")"
   ],
   "metadata": {
    "collapsed": false,
    "ExecuteTime": {
     "end_time": "2023-10-22T02:25:37.910976Z",
     "start_time": "2023-10-22T02:25:37.879431800Z"
    }
   },
   "id": "9a5def81ae360439"
  },
  {
   "cell_type": "code",
   "execution_count": 4,
   "outputs": [
    {
     "name": "stdout",
     "output_type": "stream",
     "text": [
      "Shape of X [N, C, H, W]: torch.Size([64, 1, 28, 28])\n",
      "Shape of y: torch.Size([64]) torch.int64\n"
     ]
    }
   ],
   "source": [
    "batch_size = 64\n",
    "# Create data loaders.\n",
    "train_dataloader = DataLoader(train_data, batch_size=batch_size)\n",
    "test_dataloader = DataLoader(test_data, batch_size=batch_size)\n",
    "\n",
    "for X, y in test_dataloader:\n",
    "    print(f\"Shape of X [N, C, H, W]: {X.shape}\")\n",
    "    print(f\"Shape of y: {y.shape} {y.dtype}\")\n",
    "    break"
   ],
   "metadata": {
    "collapsed": false,
    "ExecuteTime": {
     "end_time": "2023-10-22T02:25:37.966627500Z",
     "start_time": "2023-10-22T02:25:37.909848Z"
    }
   },
   "id": "cdd38e3de63026cb"
  },
  {
   "cell_type": "markdown",
   "source": [
    "# Creating Models"
   ],
   "metadata": {
    "collapsed": false
   },
   "id": "271f02ac3babcc64"
  },
  {
   "cell_type": "code",
   "execution_count": 5,
   "outputs": [],
   "source": [
    "# Define model\n",
    "class NeuralNetwork(nn.Module):\n",
    "    def __init__(self):\n",
    "        super().__init__()\n",
    "        self.flatten = nn.Flatten()\n",
    "        self.linear_relu_stack = nn.Sequential(\n",
    "            nn.Linear(28 * 28, 512),\n",
    "            nn.ReLU(),\n",
    "            nn.Linear(512, 512),\n",
    "            nn.ReLU(),\n",
    "            nn.Linear(512, 10)\n",
    "        )\n",
    "\n",
    "    def forward(self, x):\n",
    "        x = self.flatten(x)\n",
    "        logits = self.linear_relu_stack(x)\n",
    "        return logits"
   ],
   "metadata": {
    "collapsed": false,
    "ExecuteTime": {
     "end_time": "2023-10-22T02:25:37.982925400Z",
     "start_time": "2023-10-22T02:25:37.943654600Z"
    }
   },
   "id": "550feee972171a51"
  },
  {
   "cell_type": "code",
   "execution_count": 6,
   "outputs": [
    {
     "name": "stdout",
     "output_type": "stream",
     "text": [
      "Using cuda device\n",
      "NeuralNetwork(\n",
      "  (flatten): Flatten(start_dim=1, end_dim=-1)\n",
      "  (linear_relu_stack): Sequential(\n",
      "    (0): Linear(in_features=784, out_features=512, bias=True)\n",
      "    (1): ReLU()\n",
      "    (2): Linear(in_features=512, out_features=512, bias=True)\n",
      "    (3): ReLU()\n",
      "    (4): Linear(in_features=512, out_features=10, bias=True)\n",
      "  )\n",
      ")\n"
     ]
    }
   ],
   "source": [
    "# Get cpu, gpu or mps device for training.\n",
    "device = (\n",
    "    \"cuda\"\n",
    "    if torch.cuda.is_available()\n",
    "    else \"mps\"\n",
    "    if torch.backends.mps.is_available()\n",
    "    else \"cpu\"\n",
    ")\n",
    "print(f\"Using {device} device\")\n",
    "\n",
    "# Define model\n",
    "class NeuralNetwork(nn.Module):\n",
    "    def __init__(self):\n",
    "        super().__init__()\n",
    "        self.flatten = nn.Flatten()\n",
    "        self.linear_relu_stack = nn.Sequential(\n",
    "            nn.Linear(28*28, 512),\n",
    "            nn.ReLU(),\n",
    "            nn.Linear(512, 512),\n",
    "            nn.ReLU(),\n",
    "            nn.Linear(512, 10)\n",
    "        )\n",
    "\n",
    "    def forward(self, x):\n",
    "        x = self.flatten(x)\n",
    "        logits = self.linear_relu_stack(x)\n",
    "        return logits\n",
    "\n",
    "model = NeuralNetwork().to(device)\n",
    "print(model)"
   ],
   "metadata": {
    "collapsed": false,
    "ExecuteTime": {
     "end_time": "2023-10-22T02:25:38.136693Z",
     "start_time": "2023-10-22T02:25:37.962639700Z"
    }
   },
   "id": "f0cebe1eaf7f1766"
  },
  {
   "cell_type": "markdown",
   "source": [
    "# Optimizing the Model Parameters"
   ],
   "metadata": {
    "collapsed": false
   },
   "id": "d8643f4fde7d4c07"
  },
  {
   "cell_type": "code",
   "execution_count": 7,
   "outputs": [],
   "source": [
    "loss_fn = nn.CrossEntropyLoss()\n",
    "optimizer = torch.optim.SGD(model.parameters(), lr=1e-3)"
   ],
   "metadata": {
    "collapsed": false,
    "ExecuteTime": {
     "end_time": "2023-10-22T02:25:38.148568100Z",
     "start_time": "2023-10-22T02:25:38.136693Z"
    }
   },
   "id": "af9d9ef5059fe44e"
  },
  {
   "cell_type": "code",
   "execution_count": 8,
   "outputs": [],
   "source": [
    "def train(dataloader, model, loss_fn, optimizer):\n",
    "    size = len(dataloader.dataset)\n",
    "    model.train()\n",
    "    for batch, (X, y) in enumerate(dataloader):\n",
    "        X, y = X.to(device), y.to(device)\n",
    "\n",
    "        # Compute predict error\n",
    "        pred = model(X)\n",
    "        loss = loss_fn(pred, y)\n",
    "\n",
    "        # Backpropagation\n",
    "        loss.backward()\n",
    "        optimizer.step()\n",
    "        optimizer.zero_grad()\n",
    "\n",
    "        if batch % 100 == 0:\n",
    "            loss, current = loss.item(), (batch + 1) * len(X)\n",
    "            print(f\"loss: {loss:>7f} [{current:>5d}/{size:>5d}]\")"
   ],
   "metadata": {
    "collapsed": false,
    "ExecuteTime": {
     "end_time": "2023-10-22T02:25:38.193074900Z",
     "start_time": "2023-10-22T02:25:38.153782800Z"
    }
   },
   "id": "633dcc616e5638b7"
  },
  {
   "cell_type": "code",
   "execution_count": 9,
   "outputs": [],
   "source": [
    "def test(dataloader, model, loss_fn):\n",
    "    size = len(dataloader.dataset)\n",
    "    num_batches = len(dataloader)\n",
    "    model.eval()\n",
    "    test_loss, correct = 0, 0\n",
    "    with torch.no_grad():\n",
    "        for X, y in dataloader:\n",
    "            X, y = X.to(device), y.to(device)\n",
    "            pred = model(X)\n",
    "            test_loss += loss_fn(pred, y).item()\n",
    "            correct += (pred.argmax(1) == y).type(torch.float).sum().item()\n",
    "    test_loss /= num_batches\n",
    "    correct /= size\n",
    "    print(f\"Test Error: \\n Accuracy: {(100*correct):>0.1f}%, Avg loss: {test_loss:>8f} \\n\")"
   ],
   "metadata": {
    "collapsed": false,
    "ExecuteTime": {
     "end_time": "2023-10-22T02:25:38.205506200Z",
     "start_time": "2023-10-22T02:25:38.170068700Z"
    }
   },
   "id": "55ab22852d4c85d8"
  },
  {
   "cell_type": "code",
   "execution_count": 10,
   "outputs": [
    {
     "name": "stdout",
     "output_type": "stream",
     "text": [
      "Epoch 1\n",
      "------------------------------\n",
      "loss: 2.297690 [   64/60000]\n",
      "loss: 2.291589 [ 6464/60000]\n",
      "loss: 2.272199 [12864/60000]\n",
      "loss: 2.269544 [19264/60000]\n",
      "loss: 2.261703 [25664/60000]\n",
      "loss: 2.213798 [32064/60000]\n",
      "loss: 2.236241 [38464/60000]\n",
      "loss: 2.199726 [44864/60000]\n",
      "loss: 2.188067 [51264/60000]\n",
      "loss: 2.163191 [57664/60000]\n",
      "Test Error: \n",
      " Accuracy: 26.8%, Avg loss: 2.160610 \n",
      "\n",
      "Epoch 2\n",
      "------------------------------\n",
      "loss: 2.158571 [   64/60000]\n",
      "loss: 2.160891 [ 6464/60000]\n",
      "loss: 2.101740 [12864/60000]\n",
      "loss: 2.126498 [19264/60000]\n",
      "loss: 2.091065 [25664/60000]\n",
      "loss: 2.007519 [32064/60000]\n",
      "loss: 2.052761 [38464/60000]\n",
      "loss: 1.972201 [44864/60000]\n",
      "loss: 1.969936 [51264/60000]\n",
      "loss: 1.912792 [57664/60000]\n",
      "Test Error: \n",
      " Accuracy: 56.0%, Avg loss: 1.908058 \n",
      "\n",
      "Epoch 3\n",
      "------------------------------\n",
      "loss: 1.922596 [   64/60000]\n",
      "loss: 1.908267 [ 6464/60000]\n",
      "loss: 1.790624 [12864/60000]\n",
      "loss: 1.841949 [19264/60000]\n",
      "loss: 1.747078 [25664/60000]\n",
      "loss: 1.674702 [32064/60000]\n",
      "loss: 1.715771 [38464/60000]\n",
      "loss: 1.612015 [44864/60000]\n",
      "loss: 1.632898 [51264/60000]\n",
      "loss: 1.539173 [57664/60000]\n",
      "Test Error: \n",
      " Accuracy: 62.1%, Avg loss: 1.547399 \n",
      "\n",
      "Epoch 4\n",
      "------------------------------\n",
      "loss: 1.596969 [   64/60000]\n",
      "loss: 1.572637 [ 6464/60000]\n",
      "loss: 1.418169 [12864/60000]\n",
      "loss: 1.500879 [19264/60000]\n",
      "loss: 1.392199 [25664/60000]\n",
      "loss: 1.369795 [32064/60000]\n",
      "loss: 1.396204 [38464/60000]\n",
      "loss: 1.319174 [44864/60000]\n",
      "loss: 1.349499 [51264/60000]\n",
      "loss: 1.256138 [57664/60000]\n",
      "Test Error: \n",
      " Accuracy: 63.9%, Avg loss: 1.276603 \n",
      "\n",
      "Epoch 5\n",
      "------------------------------\n",
      "loss: 1.337855 [   64/60000]\n",
      "loss: 1.330245 [ 6464/60000]\n",
      "loss: 1.161163 [12864/60000]\n",
      "loss: 1.273405 [19264/60000]\n",
      "loss: 1.158757 [25664/60000]\n",
      "loss: 1.169381 [32064/60000]\n",
      "loss: 1.192945 [38464/60000]\n",
      "loss: 1.135242 [44864/60000]\n",
      "loss: 1.168217 [51264/60000]\n",
      "loss: 1.088138 [57664/60000]\n",
      "Test Error: \n",
      " Accuracy: 65.2%, Avg loss: 1.106446 \n",
      "\n",
      "Done!\n"
     ]
    }
   ],
   "source": [
    "epochs = 5\n",
    "for t in range(epochs):\n",
    "    print(f\"Epoch {t+1}\\n------------------------------\")\n",
    "    train(train_dataloader, model, loss_fn, optimizer)\n",
    "    test(test_dataloader, model, loss_fn)\n",
    "print(\"Done!\")"
   ],
   "metadata": {
    "collapsed": false,
    "ExecuteTime": {
     "end_time": "2023-10-22T02:26:36.908452Z",
     "start_time": "2023-10-22T02:25:38.183691400Z"
    }
   },
   "id": "281606a3d08d01fd"
  },
  {
   "cell_type": "markdown",
   "source": [
    "# Save Model"
   ],
   "metadata": {
    "collapsed": false
   },
   "id": "a403ef7cd19c4923"
  },
  {
   "cell_type": "code",
   "execution_count": 11,
   "outputs": [
    {
     "name": "stdout",
     "output_type": "stream",
     "text": [
      "Saved PyTorch Model State to model.pth\n"
     ]
    }
   ],
   "source": [
    "torch.save(model.state_dict(), \"model.pth\")\n",
    "print(\"Saved PyTorch Model State to model.pth\")"
   ],
   "metadata": {
    "collapsed": false,
    "ExecuteTime": {
     "end_time": "2023-10-22T02:26:36.951292700Z",
     "start_time": "2023-10-22T02:26:36.908452Z"
    }
   },
   "id": "135284e991030ff2"
  },
  {
   "cell_type": "markdown",
   "source": [
    "# Loading Models"
   ],
   "metadata": {
    "collapsed": false
   },
   "id": "6fbe2584720a8b07"
  },
  {
   "cell_type": "code",
   "execution_count": 12,
   "outputs": [
    {
     "data": {
      "text/plain": "<All keys matched successfully>"
     },
     "execution_count": 12,
     "metadata": {},
     "output_type": "execute_result"
    }
   ],
   "source": [
    "model = NeuralNetwork().to(device)\n",
    "model.load_state_dict(torch.load(\"model.pth\"))"
   ],
   "metadata": {
    "collapsed": false,
    "ExecuteTime": {
     "end_time": "2023-10-22T02:26:36.958278600Z",
     "start_time": "2023-10-22T02:26:36.926783500Z"
    }
   },
   "id": "237fa2a386388980"
  },
  {
   "cell_type": "code",
   "execution_count": 13,
   "outputs": [
    {
     "name": "stdout",
     "output_type": "stream",
     "text": [
      "Predicted: Pullover, Actual: Coat\n"
     ]
    }
   ],
   "source": [
    "# predict\n",
    "classes = [\n",
    "    \"T-shirt/top\",\n",
    "    \"Trouser\",\n",
    "    \"Pullover\",\n",
    "    \"Dress\",\n",
    "    \"Coat\",\n",
    "    \"Sandal\",\n",
    "    \"Shirt\",\n",
    "    \"Sneaker\",\n",
    "    \"Bag\",\n",
    "    \"Ankle boot\"\n",
    "]\n",
    "model.eval()\n",
    "# 樣本中第11個物件\n",
    "x, y = test_data[10][0], test_data[10][1]\n",
    "with torch.no_grad():\n",
    "    x = x.to(device)\n",
    "    pred = model(x)\n",
    "    predicted, actual = classes[pred[0].argmax(0)], classes[y]\n",
    "    print(f\"Predicted: {predicted}, Actual: {actual}\")"
   ],
   "metadata": {
    "collapsed": false,
    "ExecuteTime": {
     "end_time": "2023-10-22T02:26:36.969692600Z",
     "start_time": "2023-10-22T02:26:36.958278600Z"
    }
   },
   "id": "24881c27a4fbbae"
  }
 ],
 "metadata": {
  "kernelspec": {
   "display_name": "Python 3",
   "language": "python",
   "name": "python3"
  },
  "language_info": {
   "codemirror_mode": {
    "name": "ipython",
    "version": 2
   },
   "file_extension": ".py",
   "mimetype": "text/x-python",
   "name": "python",
   "nbconvert_exporter": "python",
   "pygments_lexer": "ipython2",
   "version": "2.7.6"
  }
 },
 "nbformat": 4,
 "nbformat_minor": 5
}
