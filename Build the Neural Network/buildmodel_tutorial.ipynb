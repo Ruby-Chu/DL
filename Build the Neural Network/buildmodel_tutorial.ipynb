{
 "cells": [
  {
   "cell_type": "markdown",
   "source": [
    "### BUILD THE NEURAL NETWORK"
   ],
   "metadata": {
    "collapsed": false
   },
   "id": "59722f153f8dfe20"
  },
  {
   "cell_type": "code",
   "execution_count": 1,
   "outputs": [],
   "source": [
    "import os\n",
    "import torch\n",
    "from torch import nn\n",
    "from torch.utils.data import DataLoader\n",
    "from torchvision import datasets, transforms"
   ],
   "metadata": {
    "collapsed": false,
    "ExecuteTime": {
     "end_time": "2023-11-04T05:51:18.962106100Z",
     "start_time": "2023-11-04T05:51:06.113658200Z"
    }
   },
   "id": "750c21c9423b9b10"
  },
  {
   "cell_type": "markdown",
   "source": [
    "### Get Device for Training"
   ],
   "metadata": {
    "collapsed": false
   },
   "id": "275200673a9438e0"
  },
  {
   "cell_type": "code",
   "execution_count": 2,
   "outputs": [
    {
     "name": "stdout",
     "output_type": "stream",
     "text": [
      "Using cuda device\n"
     ]
    }
   ],
   "source": [
    "device = (\n",
    "    \"cuda\"\n",
    "    if torch.cuda.is_available()\n",
    "    else \"mps\"\n",
    "    if torch.backends.mps.is_available()\n",
    "    else \"cpu\"\n",
    ")\n",
    "print(f\"Using {device} device\")"
   ],
   "metadata": {
    "collapsed": false,
    "ExecuteTime": {
     "end_time": "2023-11-04T05:51:20.090511800Z",
     "start_time": "2023-11-04T05:51:18.964261500Z"
    }
   },
   "id": "d01555ddfd5f93da"
  },
  {
   "cell_type": "markdown",
   "source": [
    "### Define the Class"
   ],
   "metadata": {
    "collapsed": false
   },
   "id": "f388bf88f5b20e32"
  },
  {
   "cell_type": "code",
   "execution_count": 3,
   "outputs": [],
   "source": [
    "class NeuralNetwork(nn.Module):\n",
    "    def __init__(self):\n",
    "        super().__init__()\n",
    "        self.flatten = nn.Flatten()\n",
    "        self.linear_relu_stack = nn.Sequential(\n",
    "            nn.Linear(28*28,512),\n",
    "            nn.ReLU(),\n",
    "            nn.Linear(512,10),\n",
    "        )\n",
    "    def forward(self, x):\n",
    "        x = self.flatten(x)\n",
    "        logits = self.linear_relu_stack(x)\n",
    "        return logits"
   ],
   "metadata": {
    "collapsed": false,
    "ExecuteTime": {
     "end_time": "2023-11-04T05:51:20.132543800Z",
     "start_time": "2023-11-04T05:51:20.093509500Z"
    }
   },
   "id": "9bc9e79e738507f7"
  },
  {
   "cell_type": "code",
   "execution_count": 4,
   "outputs": [
    {
     "name": "stdout",
     "output_type": "stream",
     "text": [
      "NeuralNetwork(\n",
      "  (flatten): Flatten(start_dim=1, end_dim=-1)\n",
      "  (linear_relu_stack): Sequential(\n",
      "    (0): Linear(in_features=784, out_features=512, bias=True)\n",
      "    (1): ReLU()\n",
      "    (2): Linear(in_features=512, out_features=10, bias=True)\n",
      "  )\n",
      ")\n"
     ]
    }
   ],
   "source": [
    "model = NeuralNetwork().to(device)\n",
    "print(model)"
   ],
   "metadata": {
    "collapsed": false,
    "ExecuteTime": {
     "end_time": "2023-11-04T05:51:20.214145100Z",
     "start_time": "2023-11-04T05:51:20.104989500Z"
    }
   },
   "id": "c4c5525326034e86"
  },
  {
   "cell_type": "code",
   "execution_count": 5,
   "outputs": [
    {
     "name": "stdout",
     "output_type": "stream",
     "text": [
      "Predicted class: tensor([8], device='cuda:0')\n"
     ]
    }
   ],
   "source": [
    "X = torch.rand(1,28,28,device=device)\n",
    "logits = model(X)\n",
    "pred_probab = nn.Softmax(dim=1)(logits)\n",
    "y_pred = pred_probab.argmax(1)\n",
    "print(f\"Predicted class: {y_pred}\")"
   ],
   "metadata": {
    "collapsed": false,
    "ExecuteTime": {
     "end_time": "2023-11-04T05:51:22.448391600Z",
     "start_time": "2023-11-04T05:51:20.218169200Z"
    }
   },
   "id": "19dbb753b50efdbe"
  },
  {
   "cell_type": "markdown",
   "source": [
    "### Model Layers"
   ],
   "metadata": {
    "collapsed": false
   },
   "id": "485b83be18674604"
  },
  {
   "cell_type": "code",
   "execution_count": 6,
   "outputs": [
    {
     "name": "stdout",
     "output_type": "stream",
     "text": [
      "torch.Size([3, 28, 28])\n"
     ]
    }
   ],
   "source": [
    "input_image = torch.rand(3,28,28)\n",
    "print(input_image.size())"
   ],
   "metadata": {
    "collapsed": false,
    "ExecuteTime": {
     "end_time": "2023-11-04T05:51:22.491328400Z",
     "start_time": "2023-11-04T05:51:22.450812900Z"
    }
   },
   "id": "95cec7eddbb7344e"
  },
  {
   "cell_type": "markdown",
   "source": [
    "#### nn.Flatten"
   ],
   "metadata": {
    "collapsed": false
   },
   "id": "93c99bce3832e4f3"
  },
  {
   "cell_type": "code",
   "execution_count": 7,
   "outputs": [
    {
     "name": "stdout",
     "output_type": "stream",
     "text": [
      "torch.Size([3, 784])\n"
     ]
    }
   ],
   "source": [
    "flatten = nn.Flatten()\n",
    "flat_image = flatten(input_image)\n",
    "print(flat_image.size())"
   ],
   "metadata": {
    "collapsed": false,
    "ExecuteTime": {
     "end_time": "2023-11-04T05:51:22.492328200Z",
     "start_time": "2023-11-04T05:51:22.465608900Z"
    }
   },
   "id": "df696e0c12f90ba"
  },
  {
   "cell_type": "markdown",
   "source": [
    "#### nn.Linear"
   ],
   "metadata": {
    "collapsed": false
   },
   "id": "61407d638d9dafe1"
  },
  {
   "cell_type": "code",
   "execution_count": 8,
   "outputs": [
    {
     "name": "stdout",
     "output_type": "stream",
     "text": [
      "torch.Size([3, 20])\n"
     ]
    }
   ],
   "source": [
    "layer1 = nn.Linear(in_features=28*28, out_features=20)\n",
    "hidden1 = layer1(flat_image)\n",
    "print(hidden1.size())"
   ],
   "metadata": {
    "collapsed": false,
    "ExecuteTime": {
     "end_time": "2023-11-04T05:51:22.495319600Z",
     "start_time": "2023-11-04T05:51:22.479384400Z"
    }
   },
   "id": "55d74bb40c216910"
  },
  {
   "cell_type": "markdown",
   "source": [
    "#### nn.ReLU"
   ],
   "metadata": {
    "collapsed": false
   },
   "id": "9ab0300d567d4a81"
  },
  {
   "cell_type": "code",
   "execution_count": 9,
   "outputs": [
    {
     "name": "stdout",
     "output_type": "stream",
     "text": [
      "Before ReLU: tensor([[ 0.2232,  0.1625, -0.1932, -0.1563,  0.0191, -0.3870,  0.3520, -0.2005,\n",
      "         -0.7174,  0.0476,  0.2228,  0.1595,  0.2814, -0.0243,  0.0648,  0.2262,\n",
      "         -0.3419,  0.3442, -0.1360,  0.2608],\n",
      "        [ 0.3839,  0.4056, -0.3335, -0.2889, -0.3715, -0.2373,  0.3989, -0.1555,\n",
      "         -0.7528, -0.2660, -0.4031,  0.2813,  0.0879,  0.3537, -0.0842,  0.3449,\n",
      "         -0.5385,  0.2421, -0.2774,  0.0534],\n",
      "        [ 0.2039,  0.4331, -0.4056, -0.3766, -0.4091, -0.4782,  0.1093, -0.0538,\n",
      "         -0.7543,  0.0497, -0.0253,  0.3728,  0.0672,  0.1755,  0.0746, -0.2579,\n",
      "         -0.2838,  0.2979, -0.2609, -0.1841]], grad_fn=<AddmmBackward0>)\n",
      "\n",
      "\n",
      "After ReLU: tensor([[0.2232, 0.1625, 0.0000, 0.0000, 0.0191, 0.0000, 0.3520, 0.0000, 0.0000,\n",
      "         0.0476, 0.2228, 0.1595, 0.2814, 0.0000, 0.0648, 0.2262, 0.0000, 0.3442,\n",
      "         0.0000, 0.2608],\n",
      "        [0.3839, 0.4056, 0.0000, 0.0000, 0.0000, 0.0000, 0.3989, 0.0000, 0.0000,\n",
      "         0.0000, 0.0000, 0.2813, 0.0879, 0.3537, 0.0000, 0.3449, 0.0000, 0.2421,\n",
      "         0.0000, 0.0534],\n",
      "        [0.2039, 0.4331, 0.0000, 0.0000, 0.0000, 0.0000, 0.1093, 0.0000, 0.0000,\n",
      "         0.0497, 0.0000, 0.3728, 0.0672, 0.1755, 0.0746, 0.0000, 0.0000, 0.2979,\n",
      "         0.0000, 0.0000]], grad_fn=<ReluBackward0>)\n"
     ]
    }
   ],
   "source": [
    "print(f\"Before ReLU: {hidden1}\\n\\n\")\n",
    "hidden1 = nn.ReLU()(hidden1)\n",
    "print(f\"After ReLU: {hidden1}\")"
   ],
   "metadata": {
    "collapsed": false,
    "ExecuteTime": {
     "end_time": "2023-11-04T05:51:22.510884400Z",
     "start_time": "2023-11-04T05:51:22.496317200Z"
    }
   },
   "id": "df819a3d767bb695"
  },
  {
   "cell_type": "markdown",
   "source": [
    "#### nn.Sequential"
   ],
   "metadata": {
    "collapsed": false
   },
   "id": "b1895d6ef255603"
  },
  {
   "cell_type": "code",
   "execution_count": 10,
   "outputs": [],
   "source": [
    "seq_modules = nn.Sequential(\n",
    "    flatten,\n",
    "    layer1,\n",
    "    nn.ReLU(),\n",
    "    nn.Linear(20,10)\n",
    ")\n",
    "input_image = torch.rand(3,28,28)\n",
    "logits = seq_modules(input_image)"
   ],
   "metadata": {
    "collapsed": false,
    "ExecuteTime": {
     "end_time": "2023-11-04T05:51:22.571776800Z",
     "start_time": "2023-11-04T05:51:22.512876500Z"
    }
   },
   "id": "46744d2626d9efa0"
  },
  {
   "cell_type": "markdown",
   "source": [
    "#### nn.Softmax"
   ],
   "metadata": {
    "collapsed": false
   },
   "id": "d0969cc67c1d295d"
  },
  {
   "cell_type": "code",
   "execution_count": 11,
   "outputs": [],
   "source": [
    "softmax = nn.Softmax(dim=1)\n",
    "pred_probab = softmax(logits)"
   ],
   "metadata": {
    "collapsed": false,
    "ExecuteTime": {
     "end_time": "2023-11-04T05:51:22.572775100Z",
     "start_time": "2023-11-04T05:51:22.530982Z"
    }
   },
   "id": "fc4fd7854edbe592"
  },
  {
   "cell_type": "markdown",
   "source": [
    "### Model Parameters"
   ],
   "metadata": {
    "collapsed": false
   },
   "id": "ee36480a5b53b39b"
  },
  {
   "cell_type": "code",
   "execution_count": 12,
   "outputs": [
    {
     "name": "stdout",
     "output_type": "stream",
     "text": [
      "Model structure: NeuralNetwork(\n",
      "  (flatten): Flatten(start_dim=1, end_dim=-1)\n",
      "  (linear_relu_stack): Sequential(\n",
      "    (0): Linear(in_features=784, out_features=512, bias=True)\n",
      "    (1): ReLU()\n",
      "    (2): Linear(in_features=512, out_features=10, bias=True)\n",
      "  )\n",
      ")\n",
      "\n",
      "\n",
      "Layer: linear_relu_stack.0.weight | Size: torch.Size([512, 784]) | Values: tensor([[-0.0192,  0.0187, -0.0125,  ...,  0.0195, -0.0259,  0.0280],\n",
      "        [ 0.0038, -0.0006,  0.0083,  ...,  0.0012, -0.0286,  0.0147]],\n",
      "       device='cuda:0', grad_fn=<SliceBackward0>) \n",
      "\n",
      "Layer: linear_relu_stack.0.bias | Size: torch.Size([512]) | Values: tensor([ 0.0126, -0.0213], device='cuda:0', grad_fn=<SliceBackward0>) \n",
      "\n",
      "Layer: linear_relu_stack.2.weight | Size: torch.Size([10, 512]) | Values: tensor([[ 0.0174,  0.0395, -0.0043,  ...,  0.0025,  0.0134, -0.0177],\n",
      "        [-0.0222, -0.0267,  0.0147,  ..., -0.0081, -0.0208,  0.0225]],\n",
      "       device='cuda:0', grad_fn=<SliceBackward0>) \n",
      "\n",
      "Layer: linear_relu_stack.2.bias | Size: torch.Size([10]) | Values: tensor([-0.0040, -0.0165], device='cuda:0', grad_fn=<SliceBackward0>) \n"
     ]
    }
   ],
   "source": [
    "print(f\"Model structure: {model}\\n\\n\")\n",
    "\n",
    "for name, param in model.named_parameters():\n",
    "    print(f\"Layer: {name} | Size: {param.size()} | Values: {param[:2]} \\n\")"
   ],
   "metadata": {
    "collapsed": false,
    "ExecuteTime": {
     "end_time": "2023-11-04T05:51:22.579282800Z",
     "start_time": "2023-11-04T05:51:22.545252900Z"
    }
   },
   "id": "f3ed92141f2be92a"
  }
 ],
 "metadata": {
  "kernelspec": {
   "display_name": "Python 3",
   "language": "python",
   "name": "python3"
  },
  "language_info": {
   "codemirror_mode": {
    "name": "ipython",
    "version": 2
   },
   "file_extension": ".py",
   "mimetype": "text/x-python",
   "name": "python",
   "nbconvert_exporter": "python",
   "pygments_lexer": "ipython2",
   "version": "2.7.6"
  }
 },
 "nbformat": 4,
 "nbformat_minor": 5
}
